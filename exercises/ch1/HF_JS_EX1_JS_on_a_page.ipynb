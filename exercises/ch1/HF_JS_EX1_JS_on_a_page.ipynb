{
 "cells": [
  {
   "cell_type": "markdown",
   "metadata": {},
   "source": [
    "## Getting JS on the page EX. 1"
   ]
  },
  {
   "cell_type": "code",
   "execution_count": 15,
   "metadata": {
    "collapsed": false
   },
   "outputs": [
    {
     "data": {
      "text/plain": [
       "{ _called: false,\n",
       "  _idleTimeout: 5000,\n",
       "  _idlePrev: \n",
       "   Timer {\n",
       "     '0': [Function: listOnTimeout],\n",
       "     _idleNext: [Circular],\n",
       "     _idlePrev: [Circular],\n",
       "     msecs: 5000 },\n",
       "  _idleNext: \n",
       "   Timer {\n",
       "     '0': [Function: listOnTimeout],\n",
       "     _idleNext: [Circular],\n",
       "     _idlePrev: [Circular],\n",
       "     msecs: 5000 },\n",
       "  _idleStart: 720997,\n",
       "  _onTimeout: [Function: wakeUpUser],\n",
       "  _repeat: null }"
      ]
     },
     "execution_count": 15,
     "metadata": {},
     "output_type": "execute_result"
    },
    {
     "name": "stdout",
     "output_type": "stream",
     "text": [
      "Are you going to stare at this boring page forever?\n",
      "Are you going to stare at this boring page forever?\n",
      "Are you going to stare at this boring page forever?\n",
      "Are you going to stare at this boring page forever?\n",
      "Are you going to stare at this boring page forever?\n",
      "Are you going to stare at this boring page forever?\n"
     ]
    }
   ],
   "source": [
    "\n",
    "function wakeUpUser() {\n",
    "\n",
    "    for (i=0;i<=5;i++){\n",
    "        console.log(\"Are you going to stare at this boring page forever?\");\n",
    "    }\n",
    "}\n",
    "setTimeout(wakeUpUser, 5000);"
   ]
  },
  {
   "cell_type": "code",
   "execution_count": null,
   "metadata": {
    "collapsed": true
   },
   "outputs": [],
   "source": []
  }
 ],
 "metadata": {
  "anaconda-cloud": {},
  "kernelspec": {
   "display_name": "Javascript (Node.js)",
   "language": "javascript",
   "name": "javascript"
  },
  "language_info": {
   "file_extension": ".js",
   "mimetype": "application/javascript",
   "name": "javascript",
   "version": "4.4.7"
  }
 },
 "nbformat": 4,
 "nbformat_minor": 2
}
